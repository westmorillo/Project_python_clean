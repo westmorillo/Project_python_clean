{
  "cells": [
    {
      "cell_type": "markdown",
      "metadata": {
        "id": "view-in-github",
        "colab_type": "text"
      },
      "source": [
        "<a href=\"https://colab.research.google.com/github/westmorillo/Project_python_clean/blob/main/Project_Clean_Data_SISTEMA_Clean_Data_.ipynb\" target=\"_parent\"><img src=\"https://colab.research.google.com/assets/colab-badge.svg\" alt=\"Open In Colab\"/></a>"
      ]
    },
    {
      "cell_type": "code",
      "execution_count": null,
      "metadata": {
        "id": "CMCFxcVuPdOx"
      },
      "outputs": [],
      "source": [
        "import pandas as pd\n",
        "import glob\n"
      ]
    },
    {
      "cell_type": "code",
      "execution_count": null,
      "metadata": {
        "id": "skKtD57Lb6E3"
      },
      "outputs": [],
      "source": [
        "import xlrd"
      ]
    },
    {
      "cell_type": "code",
      "execution_count": null,
      "metadata": {
        "colab": {
          "base_uri": "https://localhost:8080/"
        },
        "id": "jje9QK2MPiU1",
        "outputId": "4f400902-febb-4e2a-c0f9-7ac83efcdb77"
      },
      "outputs": [
        {
          "output_type": "stream",
          "name": "stdout",
          "text": [
            "Drive already mounted at /content/drive; to attempt to forcibly remount, call drive.mount(\"/content/drive\", force_remount=True).\n"
          ]
        }
      ],
      "source": [
        "from google.colab import drive\n",
        "drive.mount('/content/drive')"
      ]
    },
    {
      "cell_type": "code",
      "execution_count": null,
      "metadata": {
        "colab": {
          "base_uri": "https://localhost:8080/"
        },
        "id": "twj_ZpTDP4hK",
        "outputId": "198da506-83a6-4906-bb04-2c039bec6a86"
      },
      "outputs": [
        {
          "output_type": "stream",
          "name": "stdout",
          "text": [
            "/content/drive/MyDrive/TOSTADISIMO/BASE DE DATOS/VENTAS\n"
          ]
        }
      ],
      "source": [
        "%cd /content/drive/MyDrive/TOSTADISIMO/BASE DE DATOS/VENTAS"
      ]
    },
    {
      "cell_type": "code",
      "execution_count": null,
      "metadata": {
        "colab": {
          "base_uri": "https://localhost:8080/"
        },
        "id": "MvN0DH3kQILl",
        "outputId": "0608024c-3740-4998-b5aa-07de0abfafce"
      },
      "outputs": [
        {
          "output_type": "stream",
          "name": "stdout",
          "text": [
            "InformeDeVentasDetallado_2020-01.xlsx  InformeDeVentasDetallado_2021_03.xlsx\n",
            "InformeDeVentasDetallado_2020-02.xlsx  InformeDeVentasDetallado_2021_04.xlsx\n",
            "InformeDeVentasDetallado_2020-03.xlsx  InformeDeVentasDetallado_2021_05.xlsx\n",
            "InformeDeVentasDetallado_2020-04.xlsx  InformeDeVentasDetallado_2021_06.xlsx\n",
            "InformeDeVentasDetallado_2020-05.xlsx  InformeDeVentasDetallado_2021_07.xlsx\n",
            "InformeDeVentasDetallado_2020-06.xlsx  InformeDeVentasDetallado_2021_08.xlsx\n",
            "InformeDeVentasDetallado_2020-07.xlsx  InformeDeVentasDetallado_2021_09.xlsx\n",
            "InformeDeVentasDetallado_2020-08.xlsx  InformeDeVentasDetallado_2021_10.xlsx\n",
            "InformeDeVentasDetallado_2020-09.xlsx  InformeDeVentasDetallado_2021_11.xlsx\n",
            "InformeDeVentasDetallado_2020-10.xlsx  InformeDeVentasDetallado_2021-12.xlsx\n",
            "InformeDeVentasDetallado_2020-11.xlsx  InformeDeVentasDetallado_2022-01.xlsx\n",
            "InformeDeVentasDetallado_2020-12.xlsx  InformeDeVentasDetallado_2022-02.xlsx\n",
            "InformeDeVentasDetallado_2021_01.xlsx  Info.txt\n",
            "InformeDeVentasDetallado_2021_02.xlsx\n"
          ]
        }
      ],
      "source": [
        "!ls"
      ]
    },
    {
      "cell_type": "markdown",
      "metadata": {
        "id": "79EXZmh5kK5x"
      },
      "source": [
        "\n",
        "Locate all files names"
      ]
    },
    {
      "cell_type": "code",
      "execution_count": null,
      "metadata": {
        "id": "l3QO3y3ucPzo"
      },
      "outputs": [],
      "source": [
        "filesnames= glob.glob('/content/drive/MyDrive/TOSTADISIMO/BASE DE DATOS/VENTAS/*.xlsx')"
      ]
    },
    {
      "cell_type": "code",
      "execution_count": null,
      "metadata": {
        "colab": {
          "base_uri": "https://localhost:8080/"
        },
        "id": "ik93MjVIlQG2",
        "outputId": "0b4b0f03-15c1-471e-92a7-fd53076b412e"
      },
      "outputs": [
        {
          "output_type": "execute_result",
          "data": {
            "text/plain": [
              "['/content/drive/MyDrive/TOSTADISIMO/BASE DE DATOS/VENTAS/InformeDeVentasDetallado_2021_11.xlsx',\n",
              " '/content/drive/MyDrive/TOSTADISIMO/BASE DE DATOS/VENTAS/InformeDeVentasDetallado_2021_09.xlsx',\n",
              " '/content/drive/MyDrive/TOSTADISIMO/BASE DE DATOS/VENTAS/InformeDeVentasDetallado_2021_10.xlsx',\n",
              " '/content/drive/MyDrive/TOSTADISIMO/BASE DE DATOS/VENTAS/InformeDeVentasDetallado_2021_08.xlsx',\n",
              " '/content/drive/MyDrive/TOSTADISIMO/BASE DE DATOS/VENTAS/InformeDeVentasDetallado_2021_07.xlsx',\n",
              " '/content/drive/MyDrive/TOSTADISIMO/BASE DE DATOS/VENTAS/InformeDeVentasDetallado_2021_06.xlsx',\n",
              " '/content/drive/MyDrive/TOSTADISIMO/BASE DE DATOS/VENTAS/InformeDeVentasDetallado_2021_05.xlsx',\n",
              " '/content/drive/MyDrive/TOSTADISIMO/BASE DE DATOS/VENTAS/InformeDeVentasDetallado_2021-12.xlsx',\n",
              " '/content/drive/MyDrive/TOSTADISIMO/BASE DE DATOS/VENTAS/InformeDeVentasDetallado_2021_04.xlsx',\n",
              " '/content/drive/MyDrive/TOSTADISIMO/BASE DE DATOS/VENTAS/InformeDeVentasDetallado_2021_03.xlsx',\n",
              " '/content/drive/MyDrive/TOSTADISIMO/BASE DE DATOS/VENTAS/InformeDeVentasDetallado_2021_02.xlsx',\n",
              " '/content/drive/MyDrive/TOSTADISIMO/BASE DE DATOS/VENTAS/InformeDeVentasDetallado_2021_01.xlsx',\n",
              " '/content/drive/MyDrive/TOSTADISIMO/BASE DE DATOS/VENTAS/InformeDeVentasDetallado_2020-12.xlsx',\n",
              " '/content/drive/MyDrive/TOSTADISIMO/BASE DE DATOS/VENTAS/InformeDeVentasDetallado_2020-11.xlsx',\n",
              " '/content/drive/MyDrive/TOSTADISIMO/BASE DE DATOS/VENTAS/InformeDeVentasDetallado_2020-10.xlsx',\n",
              " '/content/drive/MyDrive/TOSTADISIMO/BASE DE DATOS/VENTAS/InformeDeVentasDetallado_2020-09.xlsx',\n",
              " '/content/drive/MyDrive/TOSTADISIMO/BASE DE DATOS/VENTAS/InformeDeVentasDetallado_2020-08.xlsx',\n",
              " '/content/drive/MyDrive/TOSTADISIMO/BASE DE DATOS/VENTAS/InformeDeVentasDetallado_2020-07.xlsx',\n",
              " '/content/drive/MyDrive/TOSTADISIMO/BASE DE DATOS/VENTAS/InformeDeVentasDetallado_2020-06.xlsx',\n",
              " '/content/drive/MyDrive/TOSTADISIMO/BASE DE DATOS/VENTAS/InformeDeVentasDetallado_2020-05.xlsx',\n",
              " '/content/drive/MyDrive/TOSTADISIMO/BASE DE DATOS/VENTAS/InformeDeVentasDetallado_2020-04.xlsx',\n",
              " '/content/drive/MyDrive/TOSTADISIMO/BASE DE DATOS/VENTAS/InformeDeVentasDetallado_2020-03.xlsx',\n",
              " '/content/drive/MyDrive/TOSTADISIMO/BASE DE DATOS/VENTAS/InformeDeVentasDetallado_2020-02.xlsx',\n",
              " '/content/drive/MyDrive/TOSTADISIMO/BASE DE DATOS/VENTAS/InformeDeVentasDetallado_2020-01.xlsx',\n",
              " '/content/drive/MyDrive/TOSTADISIMO/BASE DE DATOS/VENTAS/InformeDeVentasDetallado_2022-02.xlsx',\n",
              " '/content/drive/MyDrive/TOSTADISIMO/BASE DE DATOS/VENTAS/InformeDeVentasDetallado_2022-01.xlsx']"
            ]
          },
          "metadata": {},
          "execution_count": 47
        }
      ],
      "source": [
        "filesnames"
      ]
    },
    {
      "cell_type": "code",
      "execution_count": null,
      "metadata": {
        "id": "eL0bs6sslSAz"
      },
      "outputs": [],
      "source": [
        "concat_all_sheet=pd.DataFrame()"
      ]
    },
    {
      "cell_type": "code",
      "execution_count": null,
      "metadata": {
        "colab": {
          "base_uri": "https://localhost:8080/",
          "height": 49
        },
        "id": "YJndDmAGogkS",
        "outputId": "a1674c1d-b39e-46b4-cab2-041808fa13fe"
      },
      "outputs": [
        {
          "output_type": "execute_result",
          "data": {
            "text/html": [
              "\n",
              "  <div id=\"df-ada93af6-d1bb-4430-88f7-448ecec08196\">\n",
              "    <div class=\"colab-df-container\">\n",
              "      <div>\n",
              "<style scoped>\n",
              "    .dataframe tbody tr th:only-of-type {\n",
              "        vertical-align: middle;\n",
              "    }\n",
              "\n",
              "    .dataframe tbody tr th {\n",
              "        vertical-align: top;\n",
              "    }\n",
              "\n",
              "    .dataframe thead th {\n",
              "        text-align: right;\n",
              "    }\n",
              "</style>\n",
              "<table border=\"1\" class=\"dataframe\">\n",
              "  <thead>\n",
              "    <tr style=\"text-align: right;\">\n",
              "      <th></th>\n",
              "    </tr>\n",
              "  </thead>\n",
              "  <tbody>\n",
              "  </tbody>\n",
              "</table>\n",
              "</div>\n",
              "      <button class=\"colab-df-convert\" onclick=\"convertToInteractive('df-ada93af6-d1bb-4430-88f7-448ecec08196')\"\n",
              "              title=\"Convert this dataframe to an interactive table.\"\n",
              "              style=\"display:none;\">\n",
              "        \n",
              "  <svg xmlns=\"http://www.w3.org/2000/svg\" height=\"24px\"viewBox=\"0 0 24 24\"\n",
              "       width=\"24px\">\n",
              "    <path d=\"M0 0h24v24H0V0z\" fill=\"none\"/>\n",
              "    <path d=\"M18.56 5.44l.94 2.06.94-2.06 2.06-.94-2.06-.94-.94-2.06-.94 2.06-2.06.94zm-11 1L8.5 8.5l.94-2.06 2.06-.94-2.06-.94L8.5 2.5l-.94 2.06-2.06.94zm10 10l.94 2.06.94-2.06 2.06-.94-2.06-.94-.94-2.06-.94 2.06-2.06.94z\"/><path d=\"M17.41 7.96l-1.37-1.37c-.4-.4-.92-.59-1.43-.59-.52 0-1.04.2-1.43.59L10.3 9.45l-7.72 7.72c-.78.78-.78 2.05 0 2.83L4 21.41c.39.39.9.59 1.41.59.51 0 1.02-.2 1.41-.59l7.78-7.78 2.81-2.81c.8-.78.8-2.07 0-2.86zM5.41 20L4 18.59l7.72-7.72 1.47 1.35L5.41 20z\"/>\n",
              "  </svg>\n",
              "      </button>\n",
              "      \n",
              "  <style>\n",
              "    .colab-df-container {\n",
              "      display:flex;\n",
              "      flex-wrap:wrap;\n",
              "      gap: 12px;\n",
              "    }\n",
              "\n",
              "    .colab-df-convert {\n",
              "      background-color: #E8F0FE;\n",
              "      border: none;\n",
              "      border-radius: 50%;\n",
              "      cursor: pointer;\n",
              "      display: none;\n",
              "      fill: #1967D2;\n",
              "      height: 32px;\n",
              "      padding: 0 0 0 0;\n",
              "      width: 32px;\n",
              "    }\n",
              "\n",
              "    .colab-df-convert:hover {\n",
              "      background-color: #E2EBFA;\n",
              "      box-shadow: 0px 1px 2px rgba(60, 64, 67, 0.3), 0px 1px 3px 1px rgba(60, 64, 67, 0.15);\n",
              "      fill: #174EA6;\n",
              "    }\n",
              "\n",
              "    [theme=dark] .colab-df-convert {\n",
              "      background-color: #3B4455;\n",
              "      fill: #D2E3FC;\n",
              "    }\n",
              "\n",
              "    [theme=dark] .colab-df-convert:hover {\n",
              "      background-color: #434B5C;\n",
              "      box-shadow: 0px 1px 3px 1px rgba(0, 0, 0, 0.15);\n",
              "      filter: drop-shadow(0px 1px 2px rgba(0, 0, 0, 0.3));\n",
              "      fill: #FFFFFF;\n",
              "    }\n",
              "  </style>\n",
              "\n",
              "      <script>\n",
              "        const buttonEl =\n",
              "          document.querySelector('#df-ada93af6-d1bb-4430-88f7-448ecec08196 button.colab-df-convert');\n",
              "        buttonEl.style.display =\n",
              "          google.colab.kernel.accessAllowed ? 'block' : 'none';\n",
              "\n",
              "        async function convertToInteractive(key) {\n",
              "          const element = document.querySelector('#df-ada93af6-d1bb-4430-88f7-448ecec08196');\n",
              "          const dataTable =\n",
              "            await google.colab.kernel.invokeFunction('convertToInteractive',\n",
              "                                                     [key], {});\n",
              "          if (!dataTable) return;\n",
              "\n",
              "          const docLinkHtml = 'Like what you see? Visit the ' +\n",
              "            '<a target=\"_blank\" href=https://colab.research.google.com/notebooks/data_table.ipynb>data table notebook</a>'\n",
              "            + ' to learn more about interactive tables.';\n",
              "          element.innerHTML = '';\n",
              "          dataTable['output_type'] = 'display_data';\n",
              "          await google.colab.output.renderOutput(dataTable, element);\n",
              "          const docLink = document.createElement('div');\n",
              "          docLink.innerHTML = docLinkHtml;\n",
              "          element.appendChild(docLink);\n",
              "        }\n",
              "      </script>\n",
              "    </div>\n",
              "  </div>\n",
              "  "
            ],
            "text/plain": [
              "Empty DataFrame\n",
              "Columns: []\n",
              "Index: []"
            ]
          },
          "metadata": {},
          "execution_count": 49
        }
      ],
      "source": [
        "concat_all_sheet"
      ]
    },
    {
      "cell_type": "markdown",
      "source": [
        "Extract all the data and join them in one dataframe"
      ],
      "metadata": {
        "id": "5lfysCtlIeGM"
      }
    },
    {
      "cell_type": "code",
      "execution_count": null,
      "metadata": {
        "id": "o2zWiIbonQDe"
      },
      "outputs": [],
      "source": [
        "\n",
        "for file in filesnames:\n",
        "  df=pd.read_excel(file, header=None,skiprows=1),\n",
        "  concat_all_sheet_single=pd.concat(df,sort=False)\n",
        "  concat_all_sheet=concat_all_sheet.append(concat_all_sheet_single)"
      ]
    },
    {
      "cell_type": "markdown",
      "source": [
        "Rename all columns "
      ],
      "metadata": {
        "id": "yZ170YJqI_ID"
      }
    },
    {
      "cell_type": "code",
      "execution_count": null,
      "metadata": {
        "id": "Dzo_fZt74eh-"
      },
      "outputs": [],
      "source": [
        "concat_all_sheet=concat_all_sheet.rename({0:'Fecha', \n",
        "                                 1:'Hora', \n",
        "                                 2:'Mesa',\n",
        "                                 3:'Mesero', \n",
        "                                 4:'Caja', \n",
        "                                 5:'Turno', \n",
        "                                 6:'Cliente',\n",
        "                                 7: 'DNI/RUC', \n",
        "                                 8:'Tipo doc.', \n",
        "                                 9:'Seri doc.', \n",
        "                                 10:'Num. doc', \n",
        "                                 11:'Efectivo', \n",
        "                                 12:'Credito',\n",
        "                                 13:'Debito', \n",
        "                                 14:'PEDIDOS YA', \n",
        "                                 15:'RAPPI', \n",
        "                                 16:'UBER', \n",
        "                                 17:'Transferencia', \n",
        "                                 18:'Web Justo',\n",
        "                                 19:'Amipas', \n",
        "                                 20:'SOCIOS', \n",
        "                                 21:'Transferencia Local', \n",
        "                                 22:'kushkiCL', \n",
        "                                 23:'Propina',\n",
        "                                 24:'Total pagado', \n",
        "                                 25:'Venta (excl. impuestos)', \n",
        "                                 26:'IVA', \n",
        "                                 27:'Otros Impuestos',\n",
        "                                 28:'Impuestos', \n",
        "                                 29:'Venta (incl. impuestos)', \n",
        "                                 30:'Descuento', \n",
        "                                 31:'Tipo descuento',\n",
        "                                 32:'Canal de venta', \n",
        "                                 33:'Estado', \n",
        "                                 34:'Anulado por', \n",
        "                                 35:'Motivo', \n",
        "                                 36:'Contado/Crédito',\n",
        "                                 37:'Producto', \n",
        "                                 38:'Area de produccion', \n",
        "                                 39:'Categoria', \n",
        "                                 40:'Cantidad', \n",
        "                                 41:'Precio',\n",
        "                                 42:'Costo teorico', \n",
        "                                 43:'Utilidad', \n",
        "                                 44:'Código producto', \n",
        "                                 45:'N° Pedido',\n",
        "                                 46:'Fecha Facturación', \n",
        "                                 47:'Fecha de Pedido', \n",
        "                                 48:'Telefono cliente',\n",
        "                                 49:'Dirección cliente', \n",
        "                                 50:'Distrito cliente', \n",
        "                                 51:'Giro', \n",
        "                                 52:'Codigo',\n",
        "                                 53:'Canal de delivery', \n",
        "                                 54:'Método de Pago', \n",
        "                                 55:'Días de Crédito',\n",
        "                                 56:'Cupón de descuento' \n",
        "                                }, axis=1)"
      ]
    },
    {
      "cell_type": "code",
      "execution_count": null,
      "metadata": {
        "colab": {
          "base_uri": "https://localhost:8080/",
          "height": 1000
        },
        "id": "8OibJF7v40zm",
        "outputId": "80bccdee-7d54-4e95-ef31-a04de206833a"
      },
      "outputs": [
        {
          "output_type": "execute_result",
          "data": {
            "text/html": [
              "\n",
              "  <div id=\"df-66ed88af-9f83-4389-9c5f-d879114ea7cd\">\n",
              "    <div class=\"colab-df-container\">\n",
              "      <div>\n",
              "<style scoped>\n",
              "    .dataframe tbody tr th:only-of-type {\n",
              "        vertical-align: middle;\n",
              "    }\n",
              "\n",
              "    .dataframe tbody tr th {\n",
              "        vertical-align: top;\n",
              "    }\n",
              "\n",
              "    .dataframe thead th {\n",
              "        text-align: right;\n",
              "    }\n",
              "</style>\n",
              "<table border=\"1\" class=\"dataframe\">\n",
              "  <thead>\n",
              "    <tr style=\"text-align: right;\">\n",
              "      <th></th>\n",
              "      <th>Fecha</th>\n",
              "      <th>Hora</th>\n",
              "      <th>Mesa</th>\n",
              "      <th>Mesero</th>\n",
              "      <th>Caja</th>\n",
              "      <th>Turno</th>\n",
              "      <th>Cliente</th>\n",
              "      <th>DNI/RUC</th>\n",
              "      <th>Tipo doc.</th>\n",
              "      <th>Seri doc.</th>\n",
              "      <th>...</th>\n",
              "      <th>Distrito cliente</th>\n",
              "      <th>Giro</th>\n",
              "      <th>Codigo</th>\n",
              "      <th>Canal de delivery</th>\n",
              "      <th>Método de Pago</th>\n",
              "      <th>Días de Crédito</th>\n",
              "      <th>Cupón de descuento</th>\n",
              "      <th>57</th>\n",
              "      <th>58</th>\n",
              "      <th>59</th>\n",
              "    </tr>\n",
              "  </thead>\n",
              "  <tbody>\n",
              "    <tr>\n",
              "      <th>0</th>\n",
              "      <td>01-11-2021</td>\n",
              "      <td>14:05:22</td>\n",
              "      <td>N/N</td>\n",
              "      <td>NaN</td>\n",
              "      <td>Caja 01</td>\n",
              "      <td>Turno Entre Semana (Lunes A Jueves)</td>\n",
              "      <td>Jose Gabriel Ortiz</td>\n",
              "      <td>111111111</td>\n",
              "      <td>Boleta</td>\n",
              "      <td>B001</td>\n",
              "      <td>...</td>\n",
              "      <td>NaN</td>\n",
              "      <td>NaN</td>\n",
              "      <td>NaN</td>\n",
              "      <td>Canal Justo</td>\n",
              "      <td>Pago online ($ 12000)</td>\n",
              "      <td>-</td>\n",
              "      <td>-</td>\n",
              "      <td>NaN</td>\n",
              "      <td>NaN</td>\n",
              "      <td>NaN</td>\n",
              "    </tr>\n",
              "    <tr>\n",
              "      <th>1</th>\n",
              "      <td>01-11-2021</td>\n",
              "      <td>14:30:21</td>\n",
              "      <td>C01</td>\n",
              "      <td>Nayibe</td>\n",
              "      <td>Caja 01</td>\n",
              "      <td>Turno Entre Semana (Lunes A Jueves)</td>\n",
              "      <td>CLIENTE GENERICO</td>\n",
              "      <td>111111111</td>\n",
              "      <td>Boleta</td>\n",
              "      <td>B001</td>\n",
              "      <td>...</td>\n",
              "      <td>NaN</td>\n",
              "      <td>OTRO</td>\n",
              "      <td>NaN</td>\n",
              "      <td>NaN</td>\n",
              "      <td>Debito ($ 12500)</td>\n",
              "      <td>-</td>\n",
              "      <td>-</td>\n",
              "      <td>NaN</td>\n",
              "      <td>NaN</td>\n",
              "      <td>NaN</td>\n",
              "    </tr>\n",
              "    <tr>\n",
              "      <th>2</th>\n",
              "      <td>01-11-2021</td>\n",
              "      <td>14:44:54</td>\n",
              "      <td>C01</td>\n",
              "      <td>Nayibe</td>\n",
              "      <td>Caja 01</td>\n",
              "      <td>Turno Entre Semana (Lunes A Jueves)</td>\n",
              "      <td>CLIENTE GENERICO</td>\n",
              "      <td>111111111</td>\n",
              "      <td>Boleta</td>\n",
              "      <td>B001</td>\n",
              "      <td>...</td>\n",
              "      <td>NaN</td>\n",
              "      <td>OTRO</td>\n",
              "      <td>NaN</td>\n",
              "      <td>NaN</td>\n",
              "      <td>Debito ($ 5500)</td>\n",
              "      <td>-</td>\n",
              "      <td>-</td>\n",
              "      <td>NaN</td>\n",
              "      <td>NaN</td>\n",
              "      <td>NaN</td>\n",
              "    </tr>\n",
              "    <tr>\n",
              "      <th>3</th>\n",
              "      <td>01-11-2021</td>\n",
              "      <td>14:51:33</td>\n",
              "      <td>C01</td>\n",
              "      <td>Nayibe</td>\n",
              "      <td>Caja 01</td>\n",
              "      <td>Turno Entre Semana (Lunes A Jueves)</td>\n",
              "      <td>CLIENTE GENERICO</td>\n",
              "      <td>111111111</td>\n",
              "      <td>Boleta</td>\n",
              "      <td>B001</td>\n",
              "      <td>...</td>\n",
              "      <td>NaN</td>\n",
              "      <td>OTRO</td>\n",
              "      <td>NaN</td>\n",
              "      <td>NaN</td>\n",
              "      <td>Debito ($ 8500)</td>\n",
              "      <td>-</td>\n",
              "      <td>-</td>\n",
              "      <td>NaN</td>\n",
              "      <td>NaN</td>\n",
              "      <td>NaN</td>\n",
              "    </tr>\n",
              "    <tr>\n",
              "      <th>4</th>\n",
              "      <td>01-11-2021</td>\n",
              "      <td>15:23:31</td>\n",
              "      <td>C01</td>\n",
              "      <td>Nayibe</td>\n",
              "      <td>Caja 01</td>\n",
              "      <td>Turno Entre Semana (Lunes A Jueves)</td>\n",
              "      <td>CLIENTE GENERICO</td>\n",
              "      <td>111111111</td>\n",
              "      <td>Boleta</td>\n",
              "      <td>B001</td>\n",
              "      <td>...</td>\n",
              "      <td>NaN</td>\n",
              "      <td>OTRO</td>\n",
              "      <td>NaN</td>\n",
              "      <td>NaN</td>\n",
              "      <td>Efectivo ($ 17900)</td>\n",
              "      <td>-</td>\n",
              "      <td>-</td>\n",
              "      <td>NaN</td>\n",
              "      <td>NaN</td>\n",
              "      <td>NaN</td>\n",
              "    </tr>\n",
              "    <tr>\n",
              "      <th>...</th>\n",
              "      <td>...</td>\n",
              "      <td>...</td>\n",
              "      <td>...</td>\n",
              "      <td>...</td>\n",
              "      <td>...</td>\n",
              "      <td>...</td>\n",
              "      <td>...</td>\n",
              "      <td>...</td>\n",
              "      <td>...</td>\n",
              "      <td>...</td>\n",
              "      <td>...</td>\n",
              "      <td>...</td>\n",
              "      <td>...</td>\n",
              "      <td>...</td>\n",
              "      <td>...</td>\n",
              "      <td>...</td>\n",
              "      <td>...</td>\n",
              "      <td>...</td>\n",
              "      <td>...</td>\n",
              "      <td>...</td>\n",
              "      <td>...</td>\n",
              "    </tr>\n",
              "    <tr>\n",
              "      <th>971</th>\n",
              "      <td>31-01-2022</td>\n",
              "      <td>21:16:29</td>\n",
              "      <td>N/N</td>\n",
              "      <td>Nayibe</td>\n",
              "      <td>Caja 01</td>\n",
              "      <td>Turno Fin De Semana (Viernes Y Sabado)</td>\n",
              "      <td>Patricia Barreto</td>\n",
              "      <td>111111111</td>\n",
              "      <td>Nota de Venta</td>\n",
              "      <td>001</td>\n",
              "      <td>...</td>\n",
              "      <td>San Diego 516, Dpto 703, Santiago,Santiago,Chile</td>\n",
              "      <td>-</td>\n",
              "      <td>-</td>\n",
              "      <td>-</td>\n",
              "      <td>NaN</td>\n",
              "      <td>NaN</td>\n",
              "      <td>Delivery Telefónico</td>\n",
              "      <td>Transferencia ($ 14500)</td>\n",
              "      <td>-</td>\n",
              "      <td>-</td>\n",
              "    </tr>\n",
              "    <tr>\n",
              "      <th>972</th>\n",
              "      <td>31-01-2022</td>\n",
              "      <td>21:28:48</td>\n",
              "      <td>C01</td>\n",
              "      <td>Nayibe</td>\n",
              "      <td>Caja 01</td>\n",
              "      <td>Turno Fin De Semana (Viernes Y Sabado)</td>\n",
              "      <td>CLIENTE GENERICO</td>\n",
              "      <td>111111111</td>\n",
              "      <td>Boleta</td>\n",
              "      <td>B001</td>\n",
              "      <td>...</td>\n",
              "      <td>SANTIAGO</td>\n",
              "      <td>NaN</td>\n",
              "      <td>NaN</td>\n",
              "      <td>NaN</td>\n",
              "      <td>OTRO</td>\n",
              "      <td>NaN</td>\n",
              "      <td>NaN</td>\n",
              "      <td>Efectivo ($ 23200)</td>\n",
              "      <td>-</td>\n",
              "      <td>-</td>\n",
              "    </tr>\n",
              "    <tr>\n",
              "      <th>973</th>\n",
              "      <td>31-01-2022</td>\n",
              "      <td>21:28:48</td>\n",
              "      <td>C01</td>\n",
              "      <td>Nayibe</td>\n",
              "      <td>Caja 01</td>\n",
              "      <td>Turno Fin De Semana (Viernes Y Sabado)</td>\n",
              "      <td>CLIENTE GENERICO</td>\n",
              "      <td>111111111</td>\n",
              "      <td>Boleta</td>\n",
              "      <td>B001</td>\n",
              "      <td>...</td>\n",
              "      <td>NaN</td>\n",
              "      <td>NaN</td>\n",
              "      <td>NaN</td>\n",
              "      <td>NaN</td>\n",
              "      <td>NaN</td>\n",
              "      <td>NaN</td>\n",
              "      <td>NaN</td>\n",
              "      <td>NaN</td>\n",
              "      <td>NaN</td>\n",
              "      <td>NaN</td>\n",
              "    </tr>\n",
              "    <tr>\n",
              "      <th>974</th>\n",
              "      <td>31-01-2022</td>\n",
              "      <td>21:28:48</td>\n",
              "      <td>C01</td>\n",
              "      <td>Nayibe</td>\n",
              "      <td>Caja 01</td>\n",
              "      <td>Turno Fin De Semana (Viernes Y Sabado)</td>\n",
              "      <td>CLIENTE GENERICO</td>\n",
              "      <td>111111111</td>\n",
              "      <td>Boleta</td>\n",
              "      <td>B001</td>\n",
              "      <td>...</td>\n",
              "      <td>NaN</td>\n",
              "      <td>NaN</td>\n",
              "      <td>NaN</td>\n",
              "      <td>NaN</td>\n",
              "      <td>NaN</td>\n",
              "      <td>NaN</td>\n",
              "      <td>NaN</td>\n",
              "      <td>NaN</td>\n",
              "      <td>NaN</td>\n",
              "      <td>NaN</td>\n",
              "    </tr>\n",
              "    <tr>\n",
              "      <th>975</th>\n",
              "      <td>31-01-2022</td>\n",
              "      <td>21:28:48</td>\n",
              "      <td>C01</td>\n",
              "      <td>Nayibe</td>\n",
              "      <td>Caja 01</td>\n",
              "      <td>Turno Fin De Semana (Viernes Y Sabado)</td>\n",
              "      <td>CLIENTE GENERICO</td>\n",
              "      <td>111111111</td>\n",
              "      <td>Boleta</td>\n",
              "      <td>B001</td>\n",
              "      <td>...</td>\n",
              "      <td>NaN</td>\n",
              "      <td>NaN</td>\n",
              "      <td>NaN</td>\n",
              "      <td>NaN</td>\n",
              "      <td>NaN</td>\n",
              "      <td>NaN</td>\n",
              "      <td>NaN</td>\n",
              "      <td>NaN</td>\n",
              "      <td>NaN</td>\n",
              "      <td>NaN</td>\n",
              "    </tr>\n",
              "  </tbody>\n",
              "</table>\n",
              "<p>35302 rows × 60 columns</p>\n",
              "</div>\n",
              "      <button class=\"colab-df-convert\" onclick=\"convertToInteractive('df-66ed88af-9f83-4389-9c5f-d879114ea7cd')\"\n",
              "              title=\"Convert this dataframe to an interactive table.\"\n",
              "              style=\"display:none;\">\n",
              "        \n",
              "  <svg xmlns=\"http://www.w3.org/2000/svg\" height=\"24px\"viewBox=\"0 0 24 24\"\n",
              "       width=\"24px\">\n",
              "    <path d=\"M0 0h24v24H0V0z\" fill=\"none\"/>\n",
              "    <path d=\"M18.56 5.44l.94 2.06.94-2.06 2.06-.94-2.06-.94-.94-2.06-.94 2.06-2.06.94zm-11 1L8.5 8.5l.94-2.06 2.06-.94-2.06-.94L8.5 2.5l-.94 2.06-2.06.94zm10 10l.94 2.06.94-2.06 2.06-.94-2.06-.94-.94-2.06-.94 2.06-2.06.94z\"/><path d=\"M17.41 7.96l-1.37-1.37c-.4-.4-.92-.59-1.43-.59-.52 0-1.04.2-1.43.59L10.3 9.45l-7.72 7.72c-.78.78-.78 2.05 0 2.83L4 21.41c.39.39.9.59 1.41.59.51 0 1.02-.2 1.41-.59l7.78-7.78 2.81-2.81c.8-.78.8-2.07 0-2.86zM5.41 20L4 18.59l7.72-7.72 1.47 1.35L5.41 20z\"/>\n",
              "  </svg>\n",
              "      </button>\n",
              "      \n",
              "  <style>\n",
              "    .colab-df-container {\n",
              "      display:flex;\n",
              "      flex-wrap:wrap;\n",
              "      gap: 12px;\n",
              "    }\n",
              "\n",
              "    .colab-df-convert {\n",
              "      background-color: #E8F0FE;\n",
              "      border: none;\n",
              "      border-radius: 50%;\n",
              "      cursor: pointer;\n",
              "      display: none;\n",
              "      fill: #1967D2;\n",
              "      height: 32px;\n",
              "      padding: 0 0 0 0;\n",
              "      width: 32px;\n",
              "    }\n",
              "\n",
              "    .colab-df-convert:hover {\n",
              "      background-color: #E2EBFA;\n",
              "      box-shadow: 0px 1px 2px rgba(60, 64, 67, 0.3), 0px 1px 3px 1px rgba(60, 64, 67, 0.15);\n",
              "      fill: #174EA6;\n",
              "    }\n",
              "\n",
              "    [theme=dark] .colab-df-convert {\n",
              "      background-color: #3B4455;\n",
              "      fill: #D2E3FC;\n",
              "    }\n",
              "\n",
              "    [theme=dark] .colab-df-convert:hover {\n",
              "      background-color: #434B5C;\n",
              "      box-shadow: 0px 1px 3px 1px rgba(0, 0, 0, 0.15);\n",
              "      filter: drop-shadow(0px 1px 2px rgba(0, 0, 0, 0.3));\n",
              "      fill: #FFFFFF;\n",
              "    }\n",
              "  </style>\n",
              "\n",
              "      <script>\n",
              "        const buttonEl =\n",
              "          document.querySelector('#df-66ed88af-9f83-4389-9c5f-d879114ea7cd button.colab-df-convert');\n",
              "        buttonEl.style.display =\n",
              "          google.colab.kernel.accessAllowed ? 'block' : 'none';\n",
              "\n",
              "        async function convertToInteractive(key) {\n",
              "          const element = document.querySelector('#df-66ed88af-9f83-4389-9c5f-d879114ea7cd');\n",
              "          const dataTable =\n",
              "            await google.colab.kernel.invokeFunction('convertToInteractive',\n",
              "                                                     [key], {});\n",
              "          if (!dataTable) return;\n",
              "\n",
              "          const docLinkHtml = 'Like what you see? Visit the ' +\n",
              "            '<a target=\"_blank\" href=https://colab.research.google.com/notebooks/data_table.ipynb>data table notebook</a>'\n",
              "            + ' to learn more about interactive tables.';\n",
              "          element.innerHTML = '';\n",
              "          dataTable['output_type'] = 'display_data';\n",
              "          await google.colab.output.renderOutput(dataTable, element);\n",
              "          const docLink = document.createElement('div');\n",
              "          docLink.innerHTML = docLinkHtml;\n",
              "          element.appendChild(docLink);\n",
              "        }\n",
              "      </script>\n",
              "    </div>\n",
              "  </div>\n",
              "  "
            ],
            "text/plain": [
              "          Fecha      Hora Mesa  Mesero     Caja  \\\n",
              "0    01-11-2021  14:05:22  N/N     NaN  Caja 01   \n",
              "1    01-11-2021  14:30:21  C01  Nayibe  Caja 01   \n",
              "2    01-11-2021  14:44:54  C01  Nayibe  Caja 01   \n",
              "3    01-11-2021  14:51:33  C01  Nayibe  Caja 01   \n",
              "4    01-11-2021  15:23:31  C01  Nayibe  Caja 01   \n",
              "..          ...       ...  ...     ...      ...   \n",
              "971  31-01-2022  21:16:29  N/N  Nayibe  Caja 01   \n",
              "972  31-01-2022  21:28:48  C01  Nayibe  Caja 01   \n",
              "973  31-01-2022  21:28:48  C01  Nayibe  Caja 01   \n",
              "974  31-01-2022  21:28:48  C01  Nayibe  Caja 01   \n",
              "975  31-01-2022  21:28:48  C01  Nayibe  Caja 01   \n",
              "\n",
              "                                      Turno             Cliente    DNI/RUC  \\\n",
              "0       Turno Entre Semana (Lunes A Jueves)  Jose Gabriel Ortiz  111111111   \n",
              "1       Turno Entre Semana (Lunes A Jueves)    CLIENTE GENERICO  111111111   \n",
              "2       Turno Entre Semana (Lunes A Jueves)    CLIENTE GENERICO  111111111   \n",
              "3       Turno Entre Semana (Lunes A Jueves)    CLIENTE GENERICO  111111111   \n",
              "4       Turno Entre Semana (Lunes A Jueves)    CLIENTE GENERICO  111111111   \n",
              "..                                      ...                 ...        ...   \n",
              "971  Turno Fin De Semana (Viernes Y Sabado)   Patricia Barreto   111111111   \n",
              "972  Turno Fin De Semana (Viernes Y Sabado)   CLIENTE GENERICO   111111111   \n",
              "973  Turno Fin De Semana (Viernes Y Sabado)   CLIENTE GENERICO   111111111   \n",
              "974  Turno Fin De Semana (Viernes Y Sabado)   CLIENTE GENERICO   111111111   \n",
              "975  Turno Fin De Semana (Viernes Y Sabado)   CLIENTE GENERICO   111111111   \n",
              "\n",
              "          Tipo doc. Seri doc.  ...  \\\n",
              "0           Boleta       B001  ...   \n",
              "1           Boleta       B001  ...   \n",
              "2           Boleta       B001  ...   \n",
              "3           Boleta       B001  ...   \n",
              "4           Boleta       B001  ...   \n",
              "..              ...       ...  ...   \n",
              "971  Nota de Venta        001  ...   \n",
              "972         Boleta       B001  ...   \n",
              "973         Boleta       B001  ...   \n",
              "974         Boleta       B001  ...   \n",
              "975         Boleta       B001  ...   \n",
              "\n",
              "                                     Distrito cliente  Giro  Codigo  \\\n",
              "0                                                 NaN   NaN     NaN   \n",
              "1                                                 NaN  OTRO     NaN   \n",
              "2                                                 NaN  OTRO     NaN   \n",
              "3                                                 NaN  OTRO     NaN   \n",
              "4                                                 NaN  OTRO     NaN   \n",
              "..                                                ...   ...     ...   \n",
              "971  San Diego 516, Dpto 703, Santiago,Santiago,Chile     -       -   \n",
              "972                                          SANTIAGO   NaN     NaN   \n",
              "973                                               NaN   NaN     NaN   \n",
              "974                                               NaN   NaN     NaN   \n",
              "975                                               NaN   NaN     NaN   \n",
              "\n",
              "     Canal de delivery         Método de Pago  Días de Crédito  \\\n",
              "0          Canal Justo  Pago online ($ 12000)                -   \n",
              "1                  NaN       Debito ($ 12500)                -   \n",
              "2                  NaN        Debito ($ 5500)                -   \n",
              "3                  NaN        Debito ($ 8500)                -   \n",
              "4                  NaN     Efectivo ($ 17900)                -   \n",
              "..                 ...                    ...              ...   \n",
              "971                  -                    NaN              NaN   \n",
              "972                NaN                   OTRO              NaN   \n",
              "973                NaN                    NaN              NaN   \n",
              "974                NaN                    NaN              NaN   \n",
              "975                NaN                    NaN              NaN   \n",
              "\n",
              "      Cupón de descuento                       57   58   59  \n",
              "0                      -                      NaN  NaN  NaN  \n",
              "1                      -                      NaN  NaN  NaN  \n",
              "2                      -                      NaN  NaN  NaN  \n",
              "3                      -                      NaN  NaN  NaN  \n",
              "4                      -                      NaN  NaN  NaN  \n",
              "..                   ...                      ...  ...  ...  \n",
              "971  Delivery Telefónico  Transferencia ($ 14500)    -    -  \n",
              "972                  NaN       Efectivo ($ 23200)    -    -  \n",
              "973                  NaN                      NaN  NaN  NaN  \n",
              "974                  NaN                      NaN  NaN  NaN  \n",
              "975                  NaN                      NaN  NaN  NaN  \n",
              "\n",
              "[35302 rows x 60 columns]"
            ]
          },
          "metadata": {},
          "execution_count": 52
        }
      ],
      "source": [
        "concat_all_sheet"
      ]
    },
    {
      "cell_type": "code",
      "execution_count": null,
      "metadata": {
        "colab": {
          "base_uri": "https://localhost:8080/"
        },
        "id": "WrpZbQVPzeLY",
        "outputId": "618d7c5d-6a0a-42a8-a0de-8e7b95673b7f"
      },
      "outputs": [
        {
          "output_type": "execute_result",
          "data": {
            "text/plain": [
              "(35302, 60)"
            ]
          },
          "metadata": {},
          "execution_count": 53
        }
      ],
      "source": [
        "concat_all_sheet.shape"
      ]
    },
    {
      "cell_type": "markdown",
      "source": [
        "Clean hour and date column in one datetime column"
      ],
      "metadata": {
        "id": "W50_e324JS6v"
      }
    },
    {
      "cell_type": "code",
      "source": [
        "concat_all_sheet['Fecha']=concat_all_sheet['Fecha'] + \" \" + concat_all_sheet['Hora']\n"
      ],
      "metadata": {
        "id": "e62iBJoNC4q7"
      },
      "execution_count": null,
      "outputs": []
    },
    {
      "cell_type": "code",
      "source": [
        "concat_all_sheet['Fecha'] = concat_all_sheet['Fecha'].astype('datetime64[ns]')\n"
      ],
      "metadata": {
        "id": "6tzmqIzPAKA2"
      },
      "execution_count": null,
      "outputs": []
    },
    {
      "cell_type": "markdown",
      "source": [
        "Export the file to XLSX"
      ],
      "metadata": {
        "id": "9Zddoz5qJjW5"
      }
    },
    {
      "cell_type": "code",
      "source": [
        "concat_all_sheet.to_excel('VentasSistemaTotal.xlsx')"
      ],
      "metadata": {
        "id": "p7Gv0kT-Bb5L"
      },
      "execution_count": null,
      "outputs": []
    },
    {
      "cell_type": "code",
      "source": [
        ""
      ],
      "metadata": {
        "id": "guQ7Wc6NEj9m"
      },
      "execution_count": null,
      "outputs": []
    }
  ],
  "metadata": {
    "colab": {
      "collapsed_sections": [],
      "name": "Project Clean Data- SISTEMA Clean Data .ipynb",
      "provenance": [],
      "authorship_tag": "ABX9TyNXLUCZEEE9F5jCLB7ign3r",
      "include_colab_link": true
    },
    "kernelspec": {
      "display_name": "Python 3",
      "name": "python3"
    },
    "language_info": {
      "name": "python"
    }
  },
  "nbformat": 4,
  "nbformat_minor": 0
}